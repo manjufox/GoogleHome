{
 "cells": [
  {
   "cell_type": "code",
   "execution_count": 2,
   "metadata": {},
   "outputs": [],
   "source": [
    "import pychromecast\n",
    "from gtts_token import gtts_token\n",
    "import urllib.parse\n",
    "\n",
    "chromecasts = pychromecast.get_chromecasts()\n",
    "cast = chromecasts[0]\n",
    "\n",
    "def play_tts(text, lang='ja'):\n",
    "    token = gtts_token.Token()\n",
    "    tk = token.calculate_token(text)\n",
    "\n",
    "    payload = {\n",
    "        'ie' : 'UTF-8',\n",
    "        'q' : text,\n",
    "        'tl' : lang,\n",
    "        'total' : 1,\n",
    "        'idx' : 0,\n",
    "        'textlen' : len(text),\n",
    "        'tk' : tk,\n",
    "        'client' : 't',\n",
    "        'ttsspeed' : 1.0\n",
    "    }\n",
    "\n",
    "    params = urllib.parse.urlencode(payload, quote_via=urllib.parse.quote)\n",
    "    url = 'https://translate.google.com/translate_tts?{}'.format(params)\n",
    "\n",
    "    cast.wait()\n",
    "    mc = cast.media_controller\n",
    "    mc.play_media(url, 'audio/mp3')"
   ]
  },
  {
   "cell_type": "code",
   "execution_count": 3,
   "metadata": {},
   "outputs": [],
   "source": [
    "play_tts(\"今日はいい天気ですね\")"
   ]
  }
 ],
 "metadata": {
  "kernelspec": {
   "display_name": "Python 3",
   "language": "python",
   "name": "python3"
  },
  "language_info": {
   "codemirror_mode": {
    "name": "ipython",
    "version": 3
   },
   "file_extension": ".py",
   "mimetype": "text/x-python",
   "name": "python",
   "nbconvert_exporter": "python",
   "pygments_lexer": "ipython3",
   "version": "3.6.5"
  }
 },
 "nbformat": 4,
 "nbformat_minor": 2
}
